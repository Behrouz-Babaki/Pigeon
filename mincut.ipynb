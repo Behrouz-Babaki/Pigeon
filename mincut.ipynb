{
 "cells": [
  {
   "cell_type": "code",
   "execution_count": 1,
   "metadata": {
    "collapsed": true
   },
   "outputs": [],
   "source": [
    "%matplotlib inline\n",
    "import networkx as nx\n",
    "import matplotlib as plt\n",
    "import random"
   ]
  },
  {
   "cell_type": "code",
   "execution_count": 2,
   "metadata": {
    "collapsed": false,
    "scrolled": true
   },
   "outputs": [
    {
     "data": {
      "image/png": "[encoded data removed]",
      "text/plain": [
       "<matplotlib.figure.Figure at 0x7f34133d8eb8>"
      ]
     },
     "metadata": {},
     "output_type": "display_data"
    }
   ],
   "source": [
    "G0 = nx.random_lobster(5, 0.5, 0.5)\n",
    "ingraph_nnodes = len(G0.nodes())\n",
    "ingraph_edges = G0.edges()\n",
    "nx.draw(G0)"
   ]
  },
  {
   "cell_type": "code",
   "execution_count": 3,
   "metadata": {
    "collapsed": false
   },
   "outputs": [],
   "source": [
    "class Cut_Finder(object):\n",
    "    def __init__(self, in_nodes, ingraph_edges):\n",
    "        G = nx.Graph()\n",
    "        G.add_nodes_from(range(2*ingraph_nnodes))\n",
    "\n",
    "        for i in range(ingraph_nnodes):\n",
    "            G.add_edge(2*i, 2*i+1)\n",
    "\n",
    "        for v1, v2 in ingraph_edges:\n",
    "            G.add_edge(v1*2+1, v2*2) \n",
    "        \n",
    "        self.G = G\n",
    "        self.in_nodes = in_nodes\n",
    "        self.in_edges = set(ingraph_edges)\n",
    "        self.capacity_edges = [(2*i, 2*i+1) for i in range(ingraph_nnodes)]  \n",
    "        \n",
    "    def update_capacities(self, ingraph_capacities):\n",
    "        edge_capacities = dict(zip(self.capacity_edges, node_capacities))\n",
    "        nx.set_edge_attributes(self.G, 'capacity', edge_capacities)        \n",
    "    \n",
    "    def find_cutset(self, in1, in2):\n",
    "        _, (reachable, non_reachable) = nx.minimum_cut(self.G, in1*2+1, in2*2)\n",
    "        cutset = set()\n",
    "        for u, nbrs in ((n, self.G[n]) for n in reachable):\n",
    "            cutset.update((u, v) for v in nbrs if v in non_reachable)\n",
    "        return [i//2 for (i, _) in cutset]\n",
    "    \n",
    "    def get_cutsets(self, ingraph_capacities):\n",
    "        self.update_capacities(ingraph_capacities)\n",
    "        \n",
    "        cutsets = []\n",
    "        for in1 in range(self.in_nodes):\n",
    "            for in2 in range(in1+1, self.in_nodes):\n",
    "                if (in1, in2) in self.in_edges: continue\n",
    "                if ingraph_capacities[in1] + ingraph_capacities[in2] <= 1: continue\n",
    "                    \n",
    "                cutset = self.find_cutset(in1, in2)\n",
    "                cut_csum = sum(ingraph_capacities[i] for i in cutset)\n",
    "                if cut_csum < ingraph_capacities[in1] + ingraph_capacities[in2] -1:\n",
    "                    cutsets.append((in1, in2, cutset))\n",
    "        return cutsets"
   ]
  },
  {
   "cell_type": "code",
   "execution_count": 4,
   "metadata": {
    "collapsed": false
   },
   "outputs": [
    {
     "data": {
      "text/plain": [
       "[(0, 1), (0, 5), (1, 2), (2, 3), (3, 4)]"
      ]
     },
     "execution_count": 4,
     "metadata": {},
     "output_type": "execute_result"
    }
   ],
   "source": [
    "G0.edges()"
   ]
  },
  {
   "cell_type": "code",
   "execution_count": 5,
   "metadata": {
    "collapsed": false
   },
   "outputs": [
    {
     "data": {
      "text/plain": [
       "[(0, 2, [1]), (0, 3, [1]), (2, 5, [1]), (3, 5, [1])]"
      ]
     },
     "execution_count": 5,
     "metadata": {},
     "output_type": "execute_result"
    }
   ],
   "source": [
    "cf = Cut_Finder(len(G0.nodes()), G0.edges())\n",
    "node_capacities = [random.random() for i in range(len(G0.nodes()))]\n",
    "cf.get_cutsets(node_capacities)"
   ]
  }
 ],
 "metadata": {
  "kernelspec": {
   "display_name": "Python 3",
   "language": "python",
   "name": "python3"
  },
  "language_info": {
   "codemirror_mode": {
    "name": "ipython",
    "version": 3
   },
   "file_extension": ".py",
   "mimetype": "text/x-python",
   "name": "python",
   "nbconvert_exporter": "python",
   "pygments_lexer": "ipython3",
   "version": "3.4.3"
  }
 },
 "nbformat": 4,
 "nbformat_minor": 0
}
