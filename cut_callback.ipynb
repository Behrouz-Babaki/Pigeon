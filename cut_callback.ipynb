{
 "cells": [
  {
   "cell_type": "markdown",
   "metadata": {},
   "source": [
    "The skeleton for the cut callback functions"
   ]
  },
  {
   "cell_type": "code",
   "execution_count": 1,
   "metadata": {
    "collapsed": true
   },
   "outputs": [],
   "source": [
    "from gurobipy import GRB"
   ]
  },
  {
   "cell_type": "code",
   "execution_count": 2,
   "metadata": {
    "collapsed": false
   },
   "outputs": [
    {
     "ename": "SyntaxError",
     "evalue": "invalid syntax (<ipython-input-2-b63a4cea1dbc>, line 4)",
     "output_type": "error",
     "traceback": [
      "\u001b[1;36m  File \u001b[1;32m\"<ipython-input-2-b63a4cea1dbc>\"\u001b[1;36m, line \u001b[1;32m4\u001b[0m\n\u001b[1;33m    if model.cbGet(GRB.Callback.MIPNODE_NODCNT) = 0:\u001b[0m\n\u001b[1;37m                                                ^\u001b[0m\n\u001b[1;31mSyntaxError\u001b[0m\u001b[1;31m:\u001b[0m invalid syntax\n"
     ]
    }
   ],
   "source": [
    "def mincut_callback(model, where):\n",
    "    # TODO add conditions: no more than 10 iterations with small improvement\n",
    "    if model._impcounter < 10 and where == GRB.Callback.MIPNODE:\n",
    "        if model.cbGet(GRB.Callback.MIPNODE_NODCNT) != 0: return\n",
    "        \n",
    "        relaxation_objval = model.cbGet(GRB.Callback.MIPNODE_OBJBND)\n",
    "        if model._relobj is not None:\n",
    "            imp = (model._relobj - relaxation_objval) / model._relobj\n",
    "            if imp < 0.005: \n",
    "                model._impcounter += 1\n",
    "            else:\n",
    "                model._impcounter = 0\n",
    "        model._relobj = relaxation_objval\n",
    "            \n",
    "    \n",
    "        \n",
    "        for i in range(model._k):\n",
    "            capacities = model.cbGetNodeRel(model._vars[k])\n",
    "            cutsets = model._cutfinder.get_cutsets(capacities)\n",
    "            # TODO add constraints\n",
    "        \n",
    "    elif where == GRB.Callback.MIPSOL:\n",
    "        for i in range(model._k):\n",
    "            capacities = model.cbGetSolution(model._vars[k])\n",
    "            cutsets = model._cutfinder.get_cutsets(capacities)\n",
    "            # TODO add constraints"
   ]
  }
 ],
 "metadata": {
  "kernelspec": {
   "display_name": "Python 3",
   "language": "python",
   "name": "python3"
  },
  "language_info": {
   "codemirror_mode": {
    "name": "ipython",
    "version": 3
   },
   "file_extension": ".py",
   "mimetype": "text/x-python",
   "name": "python",
   "nbconvert_exporter": "python",
   "pygments_lexer": "ipython3",
   "version": "3.4.3"
  }
 },
 "nbformat": 4,
 "nbformat_minor": 0
}
