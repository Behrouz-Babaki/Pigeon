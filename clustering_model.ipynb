{
 "cells": [
  {
   "cell_type": "code",
   "execution_count": 5,
   "metadata": {
    "collapsed": true
   },
   "outputs": [],
   "source": [
    "from gurobipy import Model, GRB, quicksum, LinExpr"
   ]
  },
  {
   "cell_type": "code",
   "execution_count": 2,
   "metadata": {
    "collapsed": true
   },
   "outputs": [],
   "source": [
    "class clustering_model(object):\n",
    "    def __init__(self, n_vertices, edges, constraints, k, gamma):\n",
    "        self.check_graph(n_vertices, edges)\n",
    "\n",
    "        model = Model('graph_clustering')\n",
    "        \n",
    "        mvars = []\n",
    "        for i in range(k):\n",
    "            cvars = []\n",
    "            for j in range(n_vertices):\n",
    "                v = model.addVar(lb=0.0, ub=1.0, vtype=GRB.BINARY)\n",
    "                cvars.append(v)\n",
    "            mvars.append(cvars)\n",
    "            \n",
    "        # constraint: each vertex in exactly one cluster\n",
    "        for v in range(n_vertices):\n",
    "            model.addConstr(quicksum([mvars[i][v] for i in range(k)]), GRB.EQUAL, 1)\n",
    "        \n",
    "        \n",
    "        obj_expr = LinExpr()\n",
    "        \n",
    "        # indicators for violation of cl constraints\n",
    "        for (u, v, w) in constraints:\n",
    "            for i in range(k):\n",
    "                y = model.addVar(lb=0.0, ub=0.0, vtype=GRB.BINARY)\n",
    "                model.addConstr(y >= mvars[i][u] + mvars[i][v] - 1)\n",
    "                obj_expr.add(y, -w * gamma)\n",
    "        \n",
    "        # size of smallest cluster \n",
    "        s = model.addVar(lb=0.0, ub=n_vertices, vtype=GRB.INTEGER)\n",
    "        for i in range(k):\n",
    "            model.addConstr(s <= quicksum([mvars[i][v] for v in range(n_vertices)]))\n",
    "        obj_expr.add(s)\n",
    "        \n",
    "        model.setObjective(obj_expr, GRB.MAXIMIZE)\n",
    "        model.Params.PreCrush = 1\n",
    "        \n",
    "        model._cut_finder = Cut_Finder(n_vertices, edges)\n",
    "        model._vars = mvars\n",
    "        model._k = k\n",
    "        model._relobj = None\n",
    "        model._impcounter = 0\n",
    "        \n",
    "        self.model = model\n",
    "               \n",
    "    def check_graph(self, n_vertices, edges):\n",
    "        vertices = [i for (i, _) in edges]\n",
    "        vertices += [i for (_, i) in edges]\n",
    "        assert(sorted(vertices) == list(range(n_vertices))\n",
    "        for u, v in edges:\n",
    "            assert(u < v)\n",
    "            assert(u < n_vertices)\n",
    "    \n",
    "    def solve(self):\n",
    "        self.model.optimize(mincut_callback)\n",
    "        print(self.model.ObjVal)\n",
    "    "
   ]
  }
 ],
 "metadata": {
  "kernelspec": {
   "display_name": "Python 3",
   "language": "python",
   "name": "python3"
  },
  "language_info": {
   "codemirror_mode": {
    "name": "ipython",
    "version": 3
   },
   "file_extension": ".py",
   "mimetype": "text/x-python",
   "name": "python",
   "nbconvert_exporter": "python",
   "pygments_lexer": "ipython3",
   "version": "3.4.3"
  }
 },
 "nbformat": 4,
 "nbformat_minor": 0
}
