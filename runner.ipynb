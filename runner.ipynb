{
 "cells": [
  {
   "cell_type": "code",
   "execution_count": 1,
   "metadata": {
    "collapsed": false
   },
   "outputs": [
    {
     "name": "stderr",
     "output_type": "stream",
     "text": [
      "/usr/lib/python3.4/importlib/_bootstrap.py:321: RuntimeWarning: compiletime version 3.5 of module 'gurobipy' does not match runtime version 3.4\n",
      "  return f(*args, **kwds)\n"
     ]
    }
   ],
   "source": [
    "from clustering_model import Clustering_Model"
   ]
  },
  {
   "cell_type": "code",
   "execution_count": 2,
   "metadata": {
    "collapsed": false,
    "scrolled": true
   },
   "outputs": [],
   "source": [
    "def read_graph(graph_fname, cons_fname=None):\n",
    "    node_names = dict()\n",
    "    node_ids = dict()\n",
    "    edges = set()\n",
    "    \n",
    "    def get_id(name):\n",
    "        if not name in node_names:\n",
    "            node_id = len(node_names)\n",
    "            node_names[name] = node_id\n",
    "            node_ids[node_id] = name \n",
    "\n",
    "        return node_names[name]  \n",
    "\n",
    "    def add_edge(v1, v2):\n",
    "        first = min(v1, v2)\n",
    "        second = max(v1, v2)\n",
    "        edges.add((first, second))\n",
    "\n",
    "\n",
    "    with open(graph_fname) as f:\n",
    "        f.readline()\n",
    "        for line in f:\n",
    "            line = line.strip()\n",
    "            if not line: continue\n",
    "            [n1, n2] = line.strip().split(',')\n",
    "            [v1, v2] = [get_id(i) for i in (n1, n2)]\n",
    "            add_edge(v1, v2)\n",
    "\n",
    "    n_vertices = max(node_ids.keys()) + 1\n",
    "    \n",
    "    \n",
    "    constraints = []\n",
    "    if cons_fname is not None:\n",
    "        with open(cons_fname) as f:\n",
    "            f.readline()\n",
    "            for line in f:\n",
    "                line = line.strip()\n",
    "                if not line: continue\n",
    "                [n1, n2, w] = line.split(',')\n",
    "                [v1, v2] = [get_id(i) for i in (n1, n2)]\n",
    "                w = float(w)\n",
    "                constraints.append((v1, v2, w))\n",
    "    \n",
    "    return n_vertices, list(edges), constraints, node_ids"
   ]
  },
  {
   "cell_type": "code",
   "execution_count": 3,
   "metadata": {
    "collapsed": false
   },
   "outputs": [],
   "source": [
    "n_vertices, edges, constraints, node_ids = read_graph('./data/graph.csv', 'data/graph_cannot_links.csv')\n",
    "k = 3    "
   ]
  },
  {
   "cell_type": "code",
   "execution_count": 7,
   "metadata": {
    "collapsed": false,
    "scrolled": true
   },
   "outputs": [
    {
     "name": "stdout",
     "output_type": "stream",
     "text": [
      "Parameter OutputFlag unchanged\n",
      "   Value: 1  Min: 0  Max: 1  Default: 1\n",
      "Changed value of parameter PreCrush to 1\n",
      "   Prev: 0  Min: 0  Max: 1  Default: 0\n",
      "Changed value of parameter LazyConstraints to 1\n",
      "   Prev: 0  Min: 0  Max: 1  Default: 0\n"
     ]
    }
   ],
   "source": [
    "cm = Clustering_Model(n_vertices, edges, \n",
    "                      constraints=constraints, \n",
    "                      k=k, gamma=5, verbosity=1)"
   ]
  },
  {
   "cell_type": "code",
   "execution_count": 8,
   "metadata": {
    "collapsed": false
   },
   "outputs": [
    {
     "name": "stdout",
     "output_type": "stream",
     "text": [
      "Optimize a model with 291 rows, 343 columns and 948 nonzeros\n",
      "Coefficient statistics:\n",
      "  Matrix range    [1e+00, 1e+00]\n",
      "  Objective range [8e-02, 5e+00]\n",
      "  Bounds range    [1e+00, 3e+01]\n",
      "  RHS range       [1e+00, 1e+00]\n",
      "Presolve time: 0.00s\n",
      "Presolved: 291 rows, 343 columns, 948 nonzeros\n",
      "Variable types: 0 continuous, 343 integer (342 binary)\n",
      "Found heuristic solution: objective -306.3828701\n",
      "\n",
      "Root relaxation: objective 9.000000e+00, 89 iterations, 0.00 seconds\n",
      "\n",
      "    Nodes    |    Current Node    |     Objective Bounds      |     Work\n",
      " Expl Unexpl |  Obj  Depth IntInf | Incumbent    BestBd   Gap | It/Node Time\n",
      "\n",
      "     0     0    9.00000    0   36 -306.38287    9.00000   103%     -    0s\n",
      "     0     0    9.00000    0   68 -306.38287    9.00000   103%     -    0s\n",
      "     0     0    9.00000    0   71 -306.38287    9.00000   103%     -    1s\n",
      "     0     0    9.00000    0   65 -306.38287    9.00000   103%     -    1s\n",
      "H    0     0                    -277.4366395    9.00000   103%     -    2s\n",
      "     0     2    9.00000    0   60 -277.43664    9.00000   103%     -    2s\n",
      "   609   510  -79.73442   10    - -277.43664    9.00000   103%  20.3    5s\n",
      "*  731   579              65    -234.1683930    8.93367   104%  20.3    6s\n",
      "*  755   578              50    -191.2310648    8.93367   105%  20.8    7s\n",
      "*  761   571              22    -169.7549950    8.93367   105%  20.9    7s\n",
      "   931   640  -91.73397    9    - -169.75499    7.75711   105%  19.8   10s\n",
      "*  933   569              35    -122.1032184    7.75711   106%  19.8   10s\n",
      "*  953   485               9     -93.2585184    7.75711   108%  20.3   10s\n",
      "H  967   470                     -89.9322437    7.75711   109%  20.3   10s\n",
      "* 1433   529              13     -85.0530761    3.10373   104%  25.3   11s\n",
      "* 1474   519              15     -83.8282558    2.86620   103%  25.6   12s\n",
      "\n",
      "Cutting planes:\n",
      "  User: 35\n",
      "  Gomory: 3\n",
      "  MIR: 29\n",
      "  Zero half: 19\n",
      "  Lazy constraints: 1260\n",
      "\n",
      "Explored 4306 nodes (131245 simplex iterations) in 13.94 seconds\n",
      "Thread count was 4 (of 4 available processors)\n",
      "\n",
      "Optimal solution found (tolerance 1.00e-04)\n",
      "Best objective -8.382825581166e+01, best bound -8.382825581166e+01, gap 0.0%\n"
     ]
    }
   ],
   "source": [
    "clusters = cm.solve()"
   ]
  },
  {
   "cell_type": "code",
   "execution_count": 9,
   "metadata": {
    "collapsed": false,
    "scrolled": true
   },
   "outputs": [
    {
     "data": {
      "text/plain": [
       "[[12, 15, 18, 22],\n",
       " [0, 2, 3, 4, 5, 6, 8, 9, 10, 17, 24, 26],\n",
       " [1, 7, 11, 13, 14, 16, 19, 20, 21, 23, 25]]"
      ]
     },
     "execution_count": 9,
     "metadata": {},
     "output_type": "execute_result"
    }
   ],
   "source": [
    "clusters"
   ]
  }
 ],
 "metadata": {
  "kernelspec": {
   "display_name": "Python 3",
   "language": "python",
   "name": "python3"
  },
  "language_info": {
   "codemirror_mode": {
    "name": "ipython",
    "version": 3
   },
   "file_extension": ".py",
   "mimetype": "text/x-python",
   "name": "python",
   "nbconvert_exporter": "python",
   "pygments_lexer": "ipython3",
   "version": "3.4.3"
  }
 },
 "nbformat": 4,
 "nbformat_minor": 0
}
